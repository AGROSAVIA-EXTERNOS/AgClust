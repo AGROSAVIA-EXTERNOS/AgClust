{
 "cells": [
  {
   "cell_type": "markdown",
   "id": "9b9f3001-ff30-4aaf-a4e7-22ac427e9098",
   "metadata": {},
   "source": [
    "# Recopilación de imágenes satelitales de centros de investigación AGROSAVIA"
   ]
  },
  {
   "cell_type": "markdown",
   "id": "c9cac982-d41c-466a-9dbb-7256ebee6f85",
   "metadata": {},
   "source": [
    "El código a continuación permite recolectar la información satelital disponible de los centros de investigación de Agrosavia distribuidos por todo el territorio nacional. Estas imágenes son recortes de la imágene satelital original que contiene el polígono georeferenciado. Las imágenes son accedidas utilizando el API desarrollado por el proyecto Planetary Computer de Microsoft."
   ]
  },
  {
   "cell_type": "markdown",
   "id": "d738ef4b-7082-41bb-96a7-28d13630cf51",
   "metadata": {},
   "source": [
    "## Carga de librerías Planetary Computer y complementarias"
   ]
  },
  {
   "cell_type": "markdown",
   "id": "858ed4c5-35cb-42ca-8a96-6e66a1583366",
   "metadata": {},
   "source": [
    "Lo primero que vamos a importar son las librerías de **Planetary computer** y de conexión **pystac**."
   ]
  },
  {
   "cell_type": "code",
   "execution_count": 1,
   "id": "b22418fa-4f4a-4f20-bc97-4581345c4565",
   "metadata": {},
   "outputs": [],
   "source": [
    "from pystac_client import Client\n",
    "from pystac.extensions.eo import EOExtension as eo\n",
    "import planetary_computer as pc"
   ]
  },
  {
   "cell_type": "markdown",
   "id": "82866559-ef06-442f-932f-ce9a9ca6c558",
   "metadata": {},
   "source": [
    "Con el fin buscar los centros de investigación en las bases de datos disponibles en **Planetary Computer**, cargaremos los archivos que definen los polígonos georeferenciados de los centros de investigación Agrosavia. Para esto usaremos la librería **fiona**."
   ]
  },
  {
   "cell_type": "code",
   "execution_count": 2,
   "id": "67bdee20-c2b7-4095-9804-cf16c53515b2",
   "metadata": {},
   "outputs": [],
   "source": [
    "import fiona"
   ]
  },
  {
   "cell_type": "code",
   "execution_count": 3,
   "id": "f40faea5-9534-44fa-913e-83fbb90a731e",
   "metadata": {},
   "outputs": [],
   "source": [
    "import rasterio\n",
    "from rasterio import mask\n",
    "from rasterio import windows\n",
    "from rasterio import features\n",
    "from rasterio import warp\n",
    "from shapely.geometry import box"
   ]
  },
  {
   "cell_type": "code",
   "execution_count": 4,
   "id": "52d073a6-c67b-419b-848c-1775e1daf0a2",
   "metadata": {},
   "outputs": [],
   "source": [
    "file_location=\"shape_files/linderos_format_4326.shp\"\n",
    "with fiona.open(file_location, \"r\",) as shapefile:\n",
    "    shapes = [feature[\"geometry\"] for feature in shapefile]\n",
    "area_of_interest=features.bounds(shapes[1])\n",
    "area_of_interest=box(*area_of_interest)"
   ]
  },
  {
   "cell_type": "markdown",
   "id": "4ea65f2b-9fec-451b-8c92-43de05b96f04",
   "metadata": {},
   "source": [
    "Ahora fijamos el intervalo de tiempo, para nuestro caso, buscamos las imágenes disponibles a la fecha."
   ]
  },
  {
   "cell_type": "code",
   "execution_count": 5,
   "id": "d325dac6-464e-4505-8f3b-431b8a35319c",
   "metadata": {},
   "outputs": [],
   "source": [
    "time_of_interest = \"1990-01-01/2021-12-31\""
   ]
  },
  {
   "cell_type": "markdown",
   "id": "16e06557-d22f-43b8-8615-b5ffc0bd8de4",
   "metadata": {},
   "source": [
    "Listamos las imágenes disponibles para el sensor **Landsat** incluyendo las que pueden estar completamente nubladas (\"lt\":100)."
   ]
  },
  {
   "cell_type": "code",
   "execution_count": 6,
   "id": "39667067-f19c-43b8-bfad-d198fbb4cf22",
   "metadata": {},
   "outputs": [],
   "source": [
    "catalog = Client.open(\"https://planetarycomputer.microsoft.com/api/stac/v1\")\n",
    "\n",
    "search = catalog.search(\n",
    "    collections=[\"landsat-8-c2-l2\"],\n",
    "    intersects=area_of_interest,\n",
    "    datetime=time_of_interest,\n",
    "    query={\"eo:cloud_cover\": {\"lt\": 100}},\n",
    ")"
   ]
  },
  {
   "cell_type": "markdown",
   "id": "975e28a6-8caf-4f37-a62a-bfc6fda16249",
   "metadata": {},
   "source": [
    "Determinamos el número de imágenes disponibles."
   ]
  },
  {
   "cell_type": "code",
   "execution_count": 7,
   "id": "8ba62740-e257-4022-861e-7b9de5d06363",
   "metadata": {},
   "outputs": [
    {
     "name": "stdout",
     "output_type": "stream",
     "text": [
      "Returned 189 Items\n"
     ]
    }
   ],
   "source": [
    "items = list(search.get_items())\n",
    "print(f\"Returned {len(items)} Items\")"
   ]
  },
  {
   "cell_type": "markdown",
   "id": "a95a0d1f-da14-46b5-9d21-9720637de8b6",
   "metadata": {},
   "source": [
    "Función que permite encontrar las bandas de la imágen satelital basado en el nombre del archivo."
   ]
  },
  {
   "cell_type": "code",
   "execution_count": 8,
   "id": "082f2afd-6866-4ee6-81fa-05431e04027b",
   "metadata": {},
   "outputs": [],
   "source": [
    "def find_asset_by_band_common_name(item, common_name):\n",
    "    for asset in item.assets.values():\n",
    "        asset_bands = eo.ext(asset).bands\n",
    "        if asset_bands and asset_bands[0].common_name == common_name:\n",
    "            return asset\n",
    "    raise KeyError(f\"{common_name} band not found\")"
   ]
  },
  {
   "cell_type": "markdown",
   "id": "3e27976a-3ebb-4f86-8f41-055f84dd50c7",
   "metadata": {},
   "source": [
    "Función que permite cargar y recortar la imágen disponible en una imagen satelital."
   ]
  },
  {
   "cell_type": "code",
   "execution_count": 25,
   "id": "72752b1e-8f52-487e-a88b-ff04753937fa",
   "metadata": {},
   "outputs": [],
   "source": [
    "def read_band(href):\n",
    "    with rasterio.open(href) as ds:\n",
    "        aoi_bounds = features.bounds(area_of_interest)\n",
    "        warped_aoi_bounds = warp.transform_bounds(\"epsg:4326\", ds.crs, *aoi_bounds)\n",
    "        aoi_window = windows.from_bounds(transform=ds.transform, *warped_aoi_bounds)\n",
    "        return ds.read(1, window=aoi_window)"
   ]
  },
  {
   "cell_type": "markdown",
   "id": "6f95c0e5-90cf-4e0b-8959-627291df6283",
   "metadata": {},
   "source": [
    "Función que calcula las etiquetas de pixel de manera automática."
   ]
  },
  {
   "cell_type": "code",
   "execution_count": 21,
   "id": "4dade83f-dabe-4766-8df8-3cbb165dcd65",
   "metadata": {},
   "outputs": [],
   "source": [
    "import numpy as np\n",
    "from PIL import Image\n",
    "import matplotlib.pyplot as plt\n",
    "\n",
    "def cubes_block(data, S):\n",
    "\n",
    "    N = S * S      # window pixels number\n",
    "\n",
    "    Nx, Ny, D = data.shape    # dimensions\n",
    "    M         = Nx * Ny       # windows number\n",
    "\n",
    "    data_padd = np.pad(data, [(int((S-1)/2),), (int((S-1)/2),), (0,)], mode='symmetric')    # data padding\n",
    "    block     = np.zeros((N, M, D))     # block array init\n",
    "\n",
    "    m = 0   # window index\n",
    "\n",
    "    # block filling\n",
    "    for i in range(Nx):\n",
    "        for j in range(Ny):\n",
    "\n",
    "            wind           = data_padd[i : i + S, j : j + S, :].copy()\n",
    "            block[:, m, :] = wind.reshape(N, D)\n",
    "\n",
    "            m += 1\n",
    "\n",
    "    return block\n",
    "\n",
    "def SGMM(X, S, Nc, P, ERR):\n",
    "  # S               window size\n",
    "  N     = S * S   # pixels number\n",
    "  # Nc              clusters number\n",
    "  # P               iterations number\n",
    "  # ERR             minimum error\n",
    "\n",
    "  # odd size checking\n",
    "  if not S % 2:\n",
    "      S = S + 1\n",
    "\n",
    "  Nx, Ny, D  = X.shape     # row length, column lenght, bands number\n",
    "  M          = Nx * Ny     # samples number\n",
    "\n",
    "  w     = np.zeros((Nc, M))           # weights (3 per pixel)\n",
    "  mu    = np.zeros((Nc, D))           # means (1 per cluster)\n",
    "  sigma = np.zeros((Nc, D, D))        # covariance arrays (1 per cluster)\n",
    "  gamma = np.random.rand(Nc, M, N)    # latent variable likelihood cubes block\n",
    "\n",
    "  cube_block = cubes_block(X, S)\n",
    "  cube_block = np.swapaxes(cube_block, 0, 1)     # data cubes block (M, N, D)\n",
    "\n",
    "  for p in range(P):\n",
    "\n",
    "      w_old     = w.copy()\n",
    "      mu_old    = mu.copy()\n",
    "      sigma_old = sigma.copy()\n",
    "\n",
    "      gamma = gamma / np.sum(gamma, 0)[np.newaxis, :]  # normalization of priori\n",
    "\n",
    "      # weights stimation\n",
    "      g = np.sum(gamma, 2)\n",
    "      w = g / N\n",
    "\n",
    "      gk_sum = np.sum(g, 1)\n",
    "\n",
    "      # mean stimation\n",
    "      mu = np.sum((cube_block[np.newaxis]) * (gamma[:, :, :, np.newaxis]), (1, 2)) / (gk_sum[:, np.newaxis])\n",
    "\n",
    "      # covariance stimation\n",
    "      t     = cube_block[np.newaxis] - mu[:, np.newaxis, np.newaxis, :]\n",
    "      sigma = np.sum(np.matmul(np.swapaxes((gamma[:, :, :, np.newaxis]) * t, 2, 3), t), 1) / \\\n",
    "              gk_sum[:, np.newaxis, np.newaxis]\n",
    "\n",
    "      # latent variable stimation\n",
    "      gamma = ((w) / ((np.sqrt(np.linalg.det(sigma)))[:, np.newaxis]))[:, :, np.newaxis] * \\\n",
    "              np.exp(-np.sum(t * np.swapaxes(np.matmul(np.linalg.inv(sigma)[:, np.newaxis], np.swapaxes(t, 2, 3)), 2, 3), 3) / 2)\n",
    "\n",
    "      err = np.linalg.norm(w - w_old) + np.linalg.norm(mu - mu_old) + np.linalg.norm(sigma - sigma_old)\n",
    "\n",
    "      if p > 1 and err < ERR:\n",
    "          break\n",
    "\n",
    "  label = np.argmax(w, 0)\n",
    "  plt.imshow(label.reshape((Nx, Ny)) + 1, cmap='jet')\n",
    "  plt.show()\n",
    "  return label.reshape((Nx, Ny)) + 1"
   ]
  },
  {
   "cell_type": "markdown",
   "id": "9834353e-2231-479e-b1d4-c91faeeb4634",
   "metadata": {},
   "source": [
    "Rutina que carga y guarda el recorte georeferenciado de la zona de interés."
   ]
  },
  {
   "cell_type": "code",
   "execution_count": 26,
   "id": "7be56084-fc8f-4eb3-b486-13ebc3172347",
   "metadata": {},
   "outputs": [],
   "source": [
    "def write_band(href,band_name):\n",
    "    with rasterio.open(href) as src:\n",
    "        aoi_bounds = features.bounds(area_of_interest)\n",
    "        warped_aoi_bounds = warp.transform_bounds(\"epsg:4326\", src.crs, *aoi_bounds)\n",
    "        shape_mask_bounds=box(*warped_aoi_bounds)\n",
    "        out_image,out_transform = mask.mask(src,[shape_mask_bounds],crop=True)\n",
    "        out_meta = src.meta\n",
    "        out_meta.update({\"driver\": \"GTiff\",\n",
    "                     \"height\": out_image.shape[1],\n",
    "                     \"width\": out_image.shape[2],\n",
    "                     \"transform\": out_transform})\n",
    "        with rasterio.open(\"img/\"+band_name, \"w\", **out_meta) as dest:\n",
    "            dest.write(out_image)\n",
    "            dest.close()\n",
    "        return out_image"
   ]
  },
  {
   "cell_type": "markdown",
   "id": "a11ba2d8-cabe-4611-b901-6c6382dae684",
   "metadata": {},
   "source": [
    "Carga de imágenes de cada banda espectral"
   ]
  },
  {
   "cell_type": "code",
   "execution_count": 27,
   "id": "ea9b3b00-a580-463f-b33c-0b71ddca5522",
   "metadata": {},
   "outputs": [],
   "source": [
    "selected_item = sorted(items, key=lambda item: eo.ext(item).cloud_cover)[0]  \n",
    "asset_hrefs = [\n",
    "    find_asset_by_band_common_name(selected_item, \"coastal\").href,\n",
    "    find_asset_by_band_common_name(selected_item, \"red\").href,\n",
    "    find_asset_by_band_common_name(selected_item, \"green\").href,\n",
    "    find_asset_by_band_common_name(selected_item, \"blue\").href,\n",
    "    find_asset_by_band_common_name(selected_item, \"swir16\").href,\n",
    "    find_asset_by_band_common_name(selected_item, \"swir22\").href,\n",
    "    find_asset_by_band_common_name(selected_item, \"lwir11\").href\n",
    "  ]\n",
    "  \n",
    "signed_hrefs = [pc.sign(asset_href) for asset_href in asset_hrefs]\n",
    "\n",
    "\n",
    "bands=[\n",
    "       write_band(signed_hrefs[0],\"coastal\"),\n",
    "       write_band(signed_hrefs[1],\"red\"),\n",
    "       write_band(signed_hrefs[2],\"green\"),\n",
    "       write_band(signed_hrefs[3],\"blue\"),\n",
    "       write_band(signed_hrefs[4],\"swir16\"),\n",
    "       write_band(signed_hrefs[5],\"swir22\"),\n",
    "       write_band(signed_hrefs[6],\"lwir11\")\n",
    "      ]\n",
    "\n",
    "bands = [read_band(href) for href in signed_hrefs]\n",
    "\n",
    "#bands.append(label)\n",
    "#multiband_data = np.stack(bands)"
   ]
  },
  {
   "cell_type": "markdown",
   "id": "8fb0f030-49ab-4dd8-b9b1-839bf3f8e5a3",
   "metadata": {},
   "source": [
    "Etiquetado de pixeles basado en el espectro por pixel."
   ]
  },
  {
   "cell_type": "code",
   "execution_count": null,
   "id": "a09c9272-edb3-4e39-bcac-d2e85df4f852",
   "metadata": {},
   "outputs": [],
   "source": [
    "multiband_data = np.stack(bands)\n",
    "\n",
    "X = np.swapaxes(np.swapaxes(multiband_data, 0, 2), 0, 1)\n",
    "label=SGMM(X, S=3, Nc=5, P=2500, ERR=1)"
   ]
  },
  {
   "cell_type": "markdown",
   "id": "f176d1ff-ea83-42c1-8c7e-b49287e8310e",
   "metadata": {},
   "source": [
    "Guardado de pixeles con etiquetas georeferenciadas."
   ]
  },
  {
   "cell_type": "code",
   "execution_count": null,
   "id": "ef7e7e73-7992-4393-8039-29fd2fa2d657",
   "metadata": {},
   "outputs": [],
   "source": [
    "with rasterio.open(hrefs[0]) as src:\n",
    "    aoi_bounds = features.bounds(area_of_interest)\n",
    "    warped_aoi_bounds = warp.transform_bounds(\"epsg:4326\", src.crs, *aoi_bounds)\n",
    "    shape_mask_bounds=box(*warped_aoi_bounds)\n",
    "    out_image,out_transform = mask.mask(src,[shape_mask_bounds],crop=True)\n",
    "    out_meta = src.meta\n",
    "    out_meta.update({\"driver\": \"GTiff\",\n",
    "                 \"height\": out_image.shape[1],\n",
    "                 \"width\": out_image.shape[2],\n",
    "                 \"transform\": out_transform})\n",
    "    with rasterio.open(\"img/\"+\"clust\", \"w\", **out_meta) as dest:\n",
    "        dest.write(label)\n",
    "        dest.close()"
   ]
  }
 ],
 "metadata": {
  "kernelspec": {
   "display_name": "Python 3 (ipykernel)",
   "language": "python",
   "name": "python3"
  },
  "language_info": {
   "codemirror_mode": {
    "name": "ipython",
    "version": 3
   },
   "file_extension": ".py",
   "mimetype": "text/x-python",
   "name": "python",
   "nbconvert_exporter": "python",
   "pygments_lexer": "ipython3",
   "version": "3.8.12"
  }
 },
 "nbformat": 4,
 "nbformat_minor": 5
}
